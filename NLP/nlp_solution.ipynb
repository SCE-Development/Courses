{
  "nbformat": 4,
  "nbformat_minor": 0,
  "metadata": {
    "kernelspec": {
      "display_name": "Python 3",
      "language": "python",
      "name": "python3"
    },
    "language_info": {
      "codemirror_mode": {
        "name": "ipython",
        "version": 3
      },
      "file_extension": ".py",
      "mimetype": "text/x-python",
      "name": "python",
      "nbconvert_exporter": "python",
      "pygments_lexer": "ipython3",
      "version": "3.7.9"
    },
    "colab": {
      "name": "nlp_solution.ipynb",
      "provenance": [],
      "collapsed_sections": []
    }
  },
  "cells": [
    {
      "cell_type": "markdown",
      "metadata": {
        "id": "UCdcVJdyIyAg"
      },
      "source": [
        "# SCE NLP Workshop Solution\n",
        "\n",
        "This is the solution to the NLP workshop. It's written to be run on Kaggle for the [NLP with Disaster Tweets](https://www.kaggle.com/c/nlp-getting-started) contest. You should write your own version, starting with the `nlp_workshop.ipynb` notebook."
      ]
    },
    {
      "cell_type": "code",
      "metadata": {
        "_cell_guid": "b1076dfc-b9ad-4769-8c92-a6c4dae69d19",
        "_uuid": "8f2839f25d086af736a60e9eeb907d3b93b6e0e5",
        "colab": {
          "base_uri": "https://localhost:8080/"
        },
        "id": "1iNCFOezIyAi",
        "outputId": "6f2bf8e4-0830-4591-e4d2-f387f0a04a17"
      },
      "source": [
        "!pip install Unidecode -q\n",
        "!pip install numpy -q\n",
        "!pip install pandas -q\n",
        "!pip install tqdm -q\n",
        "!pip install matplotlib -q\n",
        "!pip install torch -q\n",
        "!pip install -U tensorflow -q\n",
        "!pip install transformers -q\n",
        "\n",
        "from unidecode import unidecode # remove accents from characters\n",
        "import html    # for html encoded characters (e.g. &amp;)\n",
        "import re      # regular expressions\n",
        "\n",
        "import numpy as np        # linear algebra\n",
        "import pandas as pd       # data processing\n",
        "from tqdm import tqdm     # progress bars\n",
        "import matplotlib.pyplot as plt  # plot graphs\n",
        "import seaborn as sns\n",
        "\n",
        "# Scikit-learn machine learning library\n",
        "from sklearn.model_selection import train_test_split\n",
        "from sklearn.preprocessing import normalize\n",
        "\n",
        "# deep learning library; our BERT model from Hugging Face uses PyTorch\n",
        "import torch\n",
        "\n",
        "# deep learning library, like PyTorch\n",
        "import tensorflow as tf\n",
        "from tensorflow.keras.callbacks import EarlyStopping\n",
        "from tensorflow.python.client import device_lib\n",
        "\n",
        "from transformers import AutoTokenizer, AutoModel # Hugging Face NLP\n",
        "\n",
        "# use cuda with PyTorch if available\n",
        "if torch.cuda.is_available():\n",
        "    device = torch.device('cuda')\n",
        "    print(f'using {torch.cuda.get_device_name(0)}\\n')\n",
        "else:\n",
        "    print('no GPU avaiable\\n')\n",
        "\n",
        "# TensorFlow automatically uses cuda\n",
        "print(device_lib.list_local_devices(), end='\\n\\n')\n",
        "\n",
        "np.random.RandomState(123) # seed RNG for reproducibility"
      ],
      "execution_count": 1,
      "outputs": [
        {
          "output_type": "stream",
          "text": [
            "/usr/local/lib/python3.7/dist-packages/tqdm/std.py:658: FutureWarning: The Panel class is removed from pandas. Accessing it from the top-level namespace will also be removed in the next version\n",
            "  from pandas import Panel\n"
          ],
          "name": "stderr"
        }
      ]
    },
    {
      "cell_type": "markdown",
      "metadata": {
        "id": "K2Dr9y2HIyAj"
      },
      "source": [
        "## data exploration\n",
        "\n",
        "Load the training data and checkout what we're working with."
      ]
    },
    {
      "cell_type": "code",
      "metadata": {
        "colab": {
          "base_uri": "https://localhost:8080/",
          "height": 419
        },
        "id": "3-RtOBbLIyAj",
        "outputId": "fcfc1cf8-3cef-4b6c-e5b8-b12b0e06cb2b"
      },
      "source": [
        "# load training data\n",
        "df_ori = pd.read_csv('https://raw.githubusercontent.com/SCE-Development/Courses/master/NLP/input/train.csv')\n",
        "\n",
        "df_ori # data frame original: contains unmodified training data"
      ],
      "execution_count": 2,
      "outputs": [
        {
          "output_type": "execute_result",
          "data": {
            "text/html": [
              "<div>\n",
              "<style scoped>\n",
              "    .dataframe tbody tr th:only-of-type {\n",
              "        vertical-align: middle;\n",
              "    }\n",
              "\n",
              "    .dataframe tbody tr th {\n",
              "        vertical-align: top;\n",
              "    }\n",
              "\n",
              "    .dataframe thead th {\n",
              "        text-align: right;\n",
              "    }\n",
              "</style>\n",
              "<table border=\"1\" class=\"dataframe\">\n",
              "  <thead>\n",
              "    <tr style=\"text-align: right;\">\n",
              "      <th></th>\n",
              "      <th>id</th>\n",
              "      <th>keyword</th>\n",
              "      <th>location</th>\n",
              "      <th>text</th>\n",
              "      <th>target</th>\n",
              "    </tr>\n",
              "  </thead>\n",
              "  <tbody>\n",
              "    <tr>\n",
              "      <th>0</th>\n",
              "      <td>1</td>\n",
              "      <td>NaN</td>\n",
              "      <td>NaN</td>\n",
              "      <td>Our Deeds are the Reason of this #earthquake M...</td>\n",
              "      <td>1</td>\n",
              "    </tr>\n",
              "    <tr>\n",
              "      <th>1</th>\n",
              "      <td>4</td>\n",
              "      <td>NaN</td>\n",
              "      <td>NaN</td>\n",
              "      <td>Forest fire near La Ronge Sask. Canada</td>\n",
              "      <td>1</td>\n",
              "    </tr>\n",
              "    <tr>\n",
              "      <th>2</th>\n",
              "      <td>5</td>\n",
              "      <td>NaN</td>\n",
              "      <td>NaN</td>\n",
              "      <td>All residents asked to 'shelter in place' are ...</td>\n",
              "      <td>1</td>\n",
              "    </tr>\n",
              "    <tr>\n",
              "      <th>3</th>\n",
              "      <td>6</td>\n",
              "      <td>NaN</td>\n",
              "      <td>NaN</td>\n",
              "      <td>13,000 people receive #wildfires evacuation or...</td>\n",
              "      <td>1</td>\n",
              "    </tr>\n",
              "    <tr>\n",
              "      <th>4</th>\n",
              "      <td>7</td>\n",
              "      <td>NaN</td>\n",
              "      <td>NaN</td>\n",
              "      <td>Just got sent this photo from Ruby #Alaska as ...</td>\n",
              "      <td>1</td>\n",
              "    </tr>\n",
              "    <tr>\n",
              "      <th>...</th>\n",
              "      <td>...</td>\n",
              "      <td>...</td>\n",
              "      <td>...</td>\n",
              "      <td>...</td>\n",
              "      <td>...</td>\n",
              "    </tr>\n",
              "    <tr>\n",
              "      <th>7608</th>\n",
              "      <td>10869</td>\n",
              "      <td>NaN</td>\n",
              "      <td>NaN</td>\n",
              "      <td>Two giant cranes holding a bridge collapse int...</td>\n",
              "      <td>1</td>\n",
              "    </tr>\n",
              "    <tr>\n",
              "      <th>7609</th>\n",
              "      <td>10870</td>\n",
              "      <td>NaN</td>\n",
              "      <td>NaN</td>\n",
              "      <td>@aria_ahrary @TheTawniest The out of control w...</td>\n",
              "      <td>1</td>\n",
              "    </tr>\n",
              "    <tr>\n",
              "      <th>7610</th>\n",
              "      <td>10871</td>\n",
              "      <td>NaN</td>\n",
              "      <td>NaN</td>\n",
              "      <td>M1.94 [01:04 UTC]?5km S of Volcano Hawaii. htt...</td>\n",
              "      <td>1</td>\n",
              "    </tr>\n",
              "    <tr>\n",
              "      <th>7611</th>\n",
              "      <td>10872</td>\n",
              "      <td>NaN</td>\n",
              "      <td>NaN</td>\n",
              "      <td>Police investigating after an e-bike collided ...</td>\n",
              "      <td>1</td>\n",
              "    </tr>\n",
              "    <tr>\n",
              "      <th>7612</th>\n",
              "      <td>10873</td>\n",
              "      <td>NaN</td>\n",
              "      <td>NaN</td>\n",
              "      <td>The Latest: More Homes Razed by Northern Calif...</td>\n",
              "      <td>1</td>\n",
              "    </tr>\n",
              "  </tbody>\n",
              "</table>\n",
              "<p>7613 rows × 5 columns</p>\n",
              "</div>"
            ],
            "text/plain": [
              "         id keyword  ...                                               text target\n",
              "0         1     NaN  ...  Our Deeds are the Reason of this #earthquake M...      1\n",
              "1         4     NaN  ...             Forest fire near La Ronge Sask. Canada      1\n",
              "2         5     NaN  ...  All residents asked to 'shelter in place' are ...      1\n",
              "3         6     NaN  ...  13,000 people receive #wildfires evacuation or...      1\n",
              "4         7     NaN  ...  Just got sent this photo from Ruby #Alaska as ...      1\n",
              "...     ...     ...  ...                                                ...    ...\n",
              "7608  10869     NaN  ...  Two giant cranes holding a bridge collapse int...      1\n",
              "7609  10870     NaN  ...  @aria_ahrary @TheTawniest The out of control w...      1\n",
              "7610  10871     NaN  ...  M1.94 [01:04 UTC]?5km S of Volcano Hawaii. htt...      1\n",
              "7611  10872     NaN  ...  Police investigating after an e-bike collided ...      1\n",
              "7612  10873     NaN  ...  The Latest: More Homes Razed by Northern Calif...      1\n",
              "\n",
              "[7613 rows x 5 columns]"
            ]
          },
          "metadata": {
            "tags": []
          },
          "execution_count": 2
        }
      ]
    },
    {
      "cell_type": "markdown",
      "metadata": {
        "id": "CK_FaHd_IyAk"
      },
      "source": [
        "Look at samples from the training data"
      ]
    },
    {
      "cell_type": "code",
      "metadata": {
        "colab": {
          "base_uri": "https://localhost:8080/"
        },
        "id": "0htgSd5nIyAk",
        "outputId": "2790c693-83a1-4f3d-d560-553a039e746e"
      },
      "source": [
        "# look at 10 keywords\n",
        "df_ori['keyword'].unique()[:10]"
      ],
      "execution_count": 3,
      "outputs": [
        {
          "output_type": "execute_result",
          "data": {
            "text/plain": [
              "array([nan, 'ablaze', 'accident', 'aftershock', 'airplane%20accident',\n",
              "       'ambulance', 'annihilated', 'annihilation', 'apocalypse',\n",
              "       'armageddon'], dtype=object)"
            ]
          },
          "metadata": {
            "tags": []
          },
          "execution_count": 3
        }
      ]
    },
    {
      "cell_type": "code",
      "metadata": {
        "colab": {
          "base_uri": "https://localhost:8080/"
        },
        "id": "6Icl4ul2IyAk",
        "outputId": "19e340a4-fa12-433a-b104-b4cdaf850ba9"
      },
      "source": [
        "# look at 10 locations\n",
        "df_ori['location'].unique()[:10]"
      ],
      "execution_count": 4,
      "outputs": [
        {
          "output_type": "execute_result",
          "data": {
            "text/plain": [
              "array([nan, 'Birmingham', 'Est. September 2012 - Bristol', 'AFRICA',\n",
              "       'Philadelphia, PA', 'London, UK', 'Pretoria', 'World Wide!!',\n",
              "       'Paranaque City', 'Live On Webcam'], dtype=object)"
            ]
          },
          "metadata": {
            "tags": []
          },
          "execution_count": 4
        }
      ]
    },
    {
      "cell_type": "code",
      "metadata": {
        "colab": {
          "base_uri": "https://localhost:8080/"
        },
        "id": "6VYT_2O2IyAl",
        "outputId": "8ced9250-50c4-4bd9-b359-7f28d4be6980"
      },
      "source": [
        "# look at 10 posts\n",
        "for index, text in df_ori['text'].iteritems():\n",
        "    # repr() will print special characters as escaped\n",
        "    # e.g. '\\n' for newline\n",
        "    print(repr(text), end='\\n\\n')\n",
        "    if index == 10:\n",
        "        break"
      ],
      "execution_count": 5,
      "outputs": [
        {
          "output_type": "stream",
          "text": [
            "'Our Deeds are the Reason of this #earthquake May ALLAH Forgive us all'\n",
            "\n",
            "'Forest fire near La Ronge Sask. Canada'\n",
            "\n",
            "\"All residents asked to 'shelter in place' are being notified by officers. No other evacuation or shelter in place orders are expected\"\n",
            "\n",
            "'13,000 people receive #wildfires evacuation orders in California '\n",
            "\n",
            "'Just got sent this photo from Ruby #Alaska as smoke from #wildfires pours into a school '\n",
            "\n",
            "'#RockyFire Update => California Hwy. 20 closed in both directions due to Lake County fire - #CAfire #wildfires'\n",
            "\n",
            "'#flood #disaster Heavy rain causes flash flooding of streets in Manitou, Colorado Springs areas'\n",
            "\n",
            "\"I'm on top of the hill and I can see a fire in the woods...\"\n",
            "\n",
            "\"There's an emergency evacuation happening now in the building across the street\"\n",
            "\n",
            "\"I'm afraid that the tornado is coming to our area...\"\n",
            "\n",
            "'Three people died from the heat wave so far'\n",
            "\n"
          ],
          "name": "stdout"
        }
      ]
    },
    {
      "cell_type": "markdown",
      "metadata": {
        "id": "nHfPFrmrIyAl"
      },
      "source": [
        "We're going to ignore 'id' and 'location' because they're useless. 'keyword' might be helpful, but we'll ignore that too."
      ]
    },
    {
      "cell_type": "code",
      "metadata": {
        "colab": {
          "base_uri": "https://localhost:8080/"
        },
        "id": "DenPqxVIIyAm",
        "outputId": "4f055f7f-8bbc-49b2-c315-741adad900e2"
      },
      "source": [
        "# drop columns (axis=1)\n",
        "df = df_ori.drop(labels=['id', 'keyword', 'location'], axis=1)\n",
        "\n",
        "df.shape # returns the dimensions of the data frame"
      ],
      "execution_count": 6,
      "outputs": [
        {
          "output_type": "execute_result",
          "data": {
            "text/plain": [
              "(7613, 2)"
            ]
          },
          "metadata": {
            "tags": []
          },
          "execution_count": 6
        }
      ]
    },
    {
      "cell_type": "markdown",
      "metadata": {
        "id": "ggIR3qLZIyAm"
      },
      "source": [
        "## BERT"
      ]
    },
    {
      "cell_type": "markdown",
      "metadata": {
        "id": "haBToLIZIyAm"
      },
      "source": [
        "BERT is a transformer, which maps a sentence into a sentence embedding (i think?). You can think of it as transforming sentences into vectors that represent the sentence.\n",
        "\n",
        "We're going to use a pretrained model from [Hugging Face](https://huggingface.co/transformers/model_doc/distilbert.html) called DistilBERT. It's been shown to be faster than BERT with similar performance."
      ]
    },
    {
      "cell_type": "markdown",
      "metadata": {
        "id": "OIHzh5JNIyAn"
      },
      "source": [
        "### preprocessing\n",
        "\n",
        "BERT doesn't require much preprocessing. We just need to do the following:\n",
        "\n",
        "1. lowercase\n",
        "2. handle special characters (e.g. ü)\n",
        "3. remove punctuation (we're considering each tweet as one sentence)"
      ]
    },
    {
      "cell_type": "code",
      "metadata": {
        "id": "_s2tDf93IyAo"
      },
      "source": [
        "def clean(text: str) -> str:\n",
        "    '''Normalize a text sample'''\n",
        "    \n",
        "    # unescape html\n",
        "    text = html.unescape(text)\n",
        "    \n",
        "    # remove mentions\n",
        "    text = re.sub(r'(^|.)@[^\\s]*', r'', text)\n",
        "    \n",
        "    # remove urls\n",
        "    text = re.sub(r'https?:\\/\\/[^\\s]*', r'', text)\n",
        "    \n",
        "    # remove accented characters\n",
        "    text = unidecode(text)\n",
        "    \n",
        "    # remove unwanted characters\n",
        "    text = re.sub(r\"[^a-zA-Z\\s']+\", r' ', text)\n",
        "    \n",
        "    # remove repeated apostrophes\n",
        "    text = re.sub(r\"(['])[']+\", r'\\1', text)\n",
        "    \n",
        "    # remove whitespace from the sides\n",
        "    text = text.strip()\n",
        "    \n",
        "    # turn whitespace into a space\n",
        "    text = re.sub(r'\\s+', r' ', text)\n",
        "    \n",
        "    # lowercase\n",
        "    text = text.lower()\n",
        "    \n",
        "    return text"
      ],
      "execution_count": 9,
      "outputs": []
    },
    {
      "cell_type": "code",
      "metadata": {
        "colab": {
          "base_uri": "https://localhost:8080/",
          "height": 37
        },
        "id": "MhKGAFlHIyAo",
        "outputId": "69908b22-f8a0-45e3-a016-c0c0907b5bc1"
      },
      "source": [
        "# clean all our text\n",
        "df['text'] = df['text'].apply(clean)\n",
        "df['text'].iat[0]"
      ],
      "execution_count": 10,
      "outputs": [
        {
          "output_type": "execute_result",
          "data": {
            "application/vnd.google.colaboratory.intrinsic+json": {
              "type": "string"
            },
            "text/plain": [
              "'our deeds are the reason of this earthquake may allah forgive us all'"
            ]
          },
          "metadata": {
            "tags": []
          },
          "execution_count": 10
        }
      ]
    },
    {
      "cell_type": "markdown",
      "metadata": {
        "id": "3wlP4MLgIyAo"
      },
      "source": [
        "### encode\n",
        "\n",
        "1. Tokenize words into IDs in BERT's vocabulary\n",
        "2. Add `[CLS]` tokens to classify the text\n",
        "3. Add `[SEP]` tokens at the ends of sentences (BERT needs them surrounding each sentence)\n",
        "4. Pad tokens to the same length\n",
        "5. Create an attention mask to ignore padding\n",
        "\n",
        "If our samples were too long (> 512 tokens), we would have to truncate them or create a list of sentences. Luckily, tweets are quite short."
      ]
    },
    {
      "cell_type": "code",
      "metadata": {
        "id": "PeQZDy_gIyAp"
      },
      "source": [
        "# download a pretrained tokenizer (needs internet)\n",
        "tokenizer = AutoTokenizer.from_pretrained('distilbert-base-uncased')"
      ],
      "execution_count": 11,
      "outputs": []
    },
    {
      "cell_type": "markdown",
      "metadata": {
        "id": "XZW9SaIRIyAp"
      },
      "source": [
        "Hugging Face has a BertNormalizer class that can do some of what our `clean()` function does\n",
        "\n",
        "```py\n",
        "from tokenizers.normalizers import BertNormalizer\n",
        "\n",
        "tokenizer.normalizer = BertNormalizer(\n",
        "    clean_text=True, handle_chinese_chars=True,\n",
        "    strip_accents=True, lowercase=True\n",
        ")\n",
        "```"
      ]
    },
    {
      "cell_type": "code",
      "metadata": {
        "id": "6r3Dw4VBIyAp"
      },
      "source": [
        "def encode_text(text: list):\n",
        "    '''Encodes text\n",
        "    \n",
        "    Arguments:\n",
        "        text (list): Array of strings.\n",
        "        \n",
        "    Returns:\n",
        "        np.ndarray: 3D array of encodings; (sample, [tokens, mask], value)\n",
        "    '''\n",
        "    \n",
        "    encodings = tokenizer(\n",
        "        text,\n",
        "        add_special_tokens=True, padding=True, truncation=True,\n",
        "        return_attention_mask=True, return_tensors='np'\n",
        "    )\n",
        "\n",
        "    encodings = np.stack(\n",
        "        [encodings.input_ids, encodings.attention_mask], axis=1)\n",
        "    \n",
        "    return encodings"
      ],
      "execution_count": 12,
      "outputs": []
    },
    {
      "cell_type": "code",
      "metadata": {
        "colab": {
          "base_uri": "https://localhost:8080/"
        },
        "id": "NONr5fzUIyAq",
        "outputId": "acfb1e99-02dd-4962-b760-1388b6b3d1f8"
      },
      "source": [
        "# encode all our text\n",
        "encodings = encode_text(df['text'].to_list())\n",
        "encodings.shape"
      ],
      "execution_count": 13,
      "outputs": [
        {
          "output_type": "execute_result",
          "data": {
            "text/plain": [
              "(7613, 2, 43)"
            ]
          },
          "metadata": {
            "tags": []
          },
          "execution_count": 13
        }
      ]
    },
    {
      "cell_type": "markdown",
      "metadata": {
        "id": "sx2DdpzrIyAq"
      },
      "source": [
        "Tokens are encoded IDs for words in BERT's vocabulary.\n",
        "\n",
        "Example from [Jay Alammar](https://jalammar.github.io/a-visual-guide-to-using-bert-for-the-first-time/#how-a-single-prediction-is-calculated)\n",
        "\n",
        "Input sentence  \n",
        "`a visually stunning rumination on love`\n",
        "\n",
        "Break words into tokens in BERT's vocabulary  \n",
        "`a` `visually` `stunning` `rum` `##ination` `on` `love`\n",
        "\n",
        "Add special tokens  \n",
        "`[CLS]` `a` `visually` `stunning` `rum` `##ination` `on` `love` `[SEP]`\n",
        "\n",
        "Encode tokens into IDs  \n",
        "`101` `1037` `17453` `14726` `19379` `12758` `2006` `2293` `102`"
      ]
    },
    {
      "cell_type": "code",
      "metadata": {
        "colab": {
          "base_uri": "https://localhost:8080/"
        },
        "id": "100uS-UtIyAq",
        "outputId": "1a8d7766-9b97-4bea-93df-c677937e9321"
      },
      "source": [
        "#  tokens\n",
        "encodings[0][0]"
      ],
      "execution_count": 14,
      "outputs": [
        {
          "output_type": "execute_result",
          "data": {
            "text/plain": [
              "array([  101,  2256, 15616,  2024,  1996,  3114,  1997,  2023,  8372,\n",
              "        2089, 16455,  9641,  2149,  2035,   102,     0,     0,     0,\n",
              "           0,     0,     0,     0,     0,     0,     0,     0,     0,\n",
              "           0,     0,     0,     0,     0,     0,     0,     0,     0,\n",
              "           0,     0,     0,     0,     0,     0,     0])"
            ]
          },
          "metadata": {
            "tags": []
          },
          "execution_count": 14
        }
      ]
    },
    {
      "cell_type": "markdown",
      "metadata": {
        "id": "K4cVcTavIyAr"
      },
      "source": [
        "The attention mask tells BERT which tokens are real (ones) and which are padded (zeros)"
      ]
    },
    {
      "cell_type": "code",
      "metadata": {
        "colab": {
          "base_uri": "https://localhost:8080/"
        },
        "id": "bPd-PQDuIyAr",
        "outputId": "9316e6b6-269f-4fec-f705-0f57393eb1d8"
      },
      "source": [
        "# attention mask\n",
        "encodings[0][1]"
      ],
      "execution_count": 15,
      "outputs": [
        {
          "output_type": "execute_result",
          "data": {
            "text/plain": [
              "array([1, 1, 1, 1, 1, 1, 1, 1, 1, 1, 1, 1, 1, 1, 1, 0, 0, 0, 0, 0, 0, 0,\n",
              "       0, 0, 0, 0, 0, 0, 0, 0, 0, 0, 0, 0, 0, 0, 0, 0, 0, 0, 0, 0, 0])"
            ]
          },
          "metadata": {
            "tags": []
          },
          "execution_count": 15
        }
      ]
    },
    {
      "cell_type": "markdown",
      "metadata": {
        "id": "zyQuQ6DAIyAs"
      },
      "source": [
        "### embed\n",
        "\n",
        "Use BERT to transform the text into embeddings (vectors of numbers to represent the sentence)."
      ]
    },
    {
      "cell_type": "code",
      "metadata": {
        "id": "uNsV866zIyAs"
      },
      "source": [
        "# download a pretrained model (needs internet)\n",
        "bert_model = AutoModel.from_pretrained('distilbert-base-uncased')"
      ],
      "execution_count": 16,
      "outputs": []
    },
    {
      "cell_type": "markdown",
      "metadata": {
        "id": "2iXromHZIyAs"
      },
      "source": [
        "Get class embeddings. Each chunk from a sample gets a vector of 768 embeddings (from the 768 hidden layers).\n",
        "\n",
        "Source: [Jay Alammar](https://jalammar.github.io/a-visual-guide-to-using-bert-for-the-first-time/#processing-with-distilbert)"
      ]
    },
    {
      "cell_type": "code",
      "metadata": {
        "id": "xocnJoAdIyAs"
      },
      "source": [
        "def embed_encodings(encodings):\n",
        "    '''Transfrom encoded samples.\n",
        "    \n",
        "    Arguments:\n",
        "        encodings (np.ndarray): 3D array of encodings;\n",
        "            (sample, [tokens, mask], value)\n",
        "    \n",
        "    Returns:\n",
        "        numpy.ndarray: 2D array of 768 hidden states for the '[CLS]' token\n",
        "            for each sample; (sample, embeddings)\n",
        "    '''\n",
        "\n",
        "    X = []\n",
        "\n",
        "    for sample in tqdm(encodings):\n",
        "        tokens = torch.tensor(sample[0])\n",
        "        mask = torch.tensor(sample[1])\n",
        "\n",
        "        with torch.no_grad():\n",
        "            last_hidden_states = bert_model(tokens.unsqueeze(0), attention_mask=mask)\n",
        "\n",
        "        # we only care about class embeddings\n",
        "        embeddings = last_hidden_states[0][:,0,:][0].numpy()\n",
        "\n",
        "        X.append(embeddings)\n",
        "\n",
        "    X = np.stack(X, axis=0)\n",
        "\n",
        "    return X"
      ],
      "execution_count": 17,
      "outputs": []
    },
    {
      "cell_type": "markdown",
      "metadata": {
        "id": "XtSKaO2sIyAt"
      },
      "source": [
        "This step takes a while, so we'll reduce the size of our training data. Once everything is working, switch to using a GPU transform all the data."
      ]
    },
    {
      "cell_type": "code",
      "metadata": {
        "colab": {
          "base_uri": "https://localhost:8080/"
        },
        "id": "x27n-SRPIyAt",
        "outputId": "f7fdaca2-4fbd-440f-963e-5efc700ab02f"
      },
      "source": [
        "# reduced data size for convenience\n",
        "encodings = encodings[:500]\n",
        "\n",
        "# match input samples\n",
        "y = df[df.index < 500]\n",
        "y = y['target'].to_numpy()\n",
        "\n",
        "X = embed_encodings(encodings)\n",
        "\n",
        "print(X.shape, y.shape)"
      ],
      "execution_count": 18,
      "outputs": [
        {
          "output_type": "stream",
          "text": [
            "100%|██████████| 500/500 [00:46<00:00, 10.74it/s]"
          ],
          "name": "stderr"
        },
        {
          "output_type": "stream",
          "text": [
            "(500, 768) (500,)\n"
          ],
          "name": "stdout"
        },
        {
          "output_type": "stream",
          "text": [
            "\n"
          ],
          "name": "stderr"
        }
      ]
    },
    {
      "cell_type": "markdown",
      "metadata": {
        "id": "6vIjkYWZIyAt"
      },
      "source": [
        "## split train and test data\n",
        "\n",
        "We need to split our training data into training and validation data. We use training data to train our model, then validation data to check our performance (and tweak our model if necessary)."
      ]
    },
    {
      "cell_type": "code",
      "metadata": {
        "colab": {
          "base_uri": "https://localhost:8080/"
        },
        "id": "CPjshA5gIyAu",
        "outputId": "9c28ee51-417b-4745-9bab-7c4e2e2e263d"
      },
      "source": [
        "X_train, X_val, y_train, y_val = map(\n",
        "    lambda x: np.stack(x, axis=0),\n",
        "    train_test_split(X, y, random_state=123, stratify=y)\n",
        ")\n",
        "\n",
        "print(X_train.shape, X_val.shape, y_train.shape, y_val.shape)"
      ],
      "execution_count": 20,
      "outputs": [
        {
          "output_type": "stream",
          "text": [
            "(375, 768) (125, 768) (375,) (125,)\n"
          ],
          "name": "stdout"
        }
      ]
    },
    {
      "cell_type": "markdown",
      "metadata": {
        "id": "VEaYVwgEIyAu"
      },
      "source": [
        "## ANN\n",
        "\n",
        "We'll use an artifical neural network on the sentence embeddings to perform classification."
      ]
    },
    {
      "cell_type": "code",
      "metadata": {
        "id": "kyZWd8HPIyAv"
      },
      "source": [
        "def build_ann(input_shape: tuple):\n",
        "    '''Builds an artifical neural network.'''\n",
        "    \n",
        "    model = tf.keras.models.Sequential([\n",
        "        tf.keras.layers.Input(shape=input_shape),\n",
        "        \n",
        "        tf.keras.layers.Dense(64, activation='relu', name='hidden_1'),\n",
        "        tf.keras.layers.Dropout(0.2, name='dropout_1'), # regularization\n",
        "        \n",
        "        tf.keras.layers.Dense(1, activation='sigmoid', name='classifier')\n",
        "    ])\n",
        "    \n",
        "    model.compile(optimizer='adam', loss='binary_crossentropy', metrics=['accuracy'])\n",
        "    \n",
        "    return model"
      ],
      "execution_count": 22,
      "outputs": []
    },
    {
      "cell_type": "code",
      "metadata": {
        "colab": {
          "base_uri": "https://localhost:8080/"
        },
        "id": "eJd6l2b6IyAv",
        "outputId": "8d409170-f7a5-4d04-e41a-1eea80a425b7"
      },
      "source": [
        "# build our model\n",
        "ann_model = build_ann(X_train.shape[1])\n",
        "\n",
        "ann_model.summary()"
      ],
      "execution_count": 23,
      "outputs": [
        {
          "output_type": "stream",
          "text": [
            "Model: \"sequential\"\n",
            "_________________________________________________________________\n",
            "Layer (type)                 Output Shape              Param #   \n",
            "=================================================================\n",
            "hidden_1 (Dense)             (None, 64)                49216     \n",
            "_________________________________________________________________\n",
            "dropout_1 (Dropout)          (None, 64)                0         \n",
            "_________________________________________________________________\n",
            "classifier (Dense)           (None, 1)                 65        \n",
            "=================================================================\n",
            "Total params: 49,281\n",
            "Trainable params: 49,281\n",
            "Non-trainable params: 0\n",
            "_________________________________________________________________\n"
          ],
          "name": "stdout"
        }
      ]
    },
    {
      "cell_type": "code",
      "metadata": {
        "colab": {
          "base_uri": "https://localhost:8080/",
          "height": 369
        },
        "id": "bM25ZqMZIyAv",
        "outputId": "7bb58bb7-7000-4061-afea-e4957de30e98"
      },
      "source": [
        "# show the model as a flowchart\n",
        "tf.keras.utils.plot_model(ann_model)"
      ],
      "execution_count": 24,
      "outputs": [
        {
          "output_type": "execute_result",
          "data": {
            "image/png": "[encoded data removed]",
            "text/plain": [
              "<IPython.core.display.Image object>"
            ]
          },
          "metadata": {
            "tags": []
          },
          "execution_count": 24
        }
      ]
    },
    {
      "cell_type": "markdown",
      "metadata": {
        "id": "DH_WfL-0MVMR"
      },
      "source": [
        "### training"
      ]
    },
    {
      "cell_type": "code",
      "metadata": {
        "id": "jZhGlUl0IyAw"
      },
      "source": [
        "# prevent overfitting\n",
        "es_callback = EarlyStopping(monitor='val_loss', patience=3)"
      ],
      "execution_count": 25,
      "outputs": []
    },
    {
      "cell_type": "code",
      "metadata": {
        "colab": {
          "base_uri": "https://localhost:8080/",
          "height": 587
        },
        "id": "v4-HlcV4IyAw",
        "outputId": "6a9017ea-2ceb-49ea-d8f0-e4a1819f4ded"
      },
      "source": [
        "history = ann_model.fit(\n",
        "    X_train, y_train, epochs=30, validation_split=0.25,\n",
        "    callbacks=[es_callback], shuffle=False\n",
        "    )\n",
        "\n",
        "plt.plot(history.history['accuracy'])\n",
        "plt.plot(history.history['val_accuracy'])\n",
        "plt.title('model accuracy')\n",
        "plt.ylabel('accuracy')\n",
        "plt.xlabel('epoch')\n",
        "plt.legend(['train', 'validation'])\n",
        "plt.show()"
      ],
      "execution_count": 26,
      "outputs": [
        {
          "output_type": "stream",
          "text": [
            "Epoch 1/30\n",
            "9/9 [==============================] - 1s 69ms/step - loss: 0.6279 - accuracy: 0.6749 - val_loss: 0.4470 - val_accuracy: 0.8404\n",
            "Epoch 2/30\n",
            "9/9 [==============================] - 0s 8ms/step - loss: 0.4864 - accuracy: 0.7616 - val_loss: 0.3713 - val_accuracy: 0.8723\n",
            "Epoch 3/30\n",
            "9/9 [==============================] - 0s 8ms/step - loss: 0.4614 - accuracy: 0.7714 - val_loss: 0.3507 - val_accuracy: 0.8723\n",
            "Epoch 4/30\n",
            "9/9 [==============================] - 0s 8ms/step - loss: 0.4156 - accuracy: 0.7884 - val_loss: 0.3386 - val_accuracy: 0.8617\n",
            "Epoch 5/30\n",
            "9/9 [==============================] - 0s 8ms/step - loss: 0.3589 - accuracy: 0.8129 - val_loss: 0.3347 - val_accuracy: 0.8723\n",
            "Epoch 6/30\n",
            "9/9 [==============================] - 0s 8ms/step - loss: 0.3843 - accuracy: 0.8279 - val_loss: 0.3419 - val_accuracy: 0.8617\n",
            "Epoch 7/30\n",
            "9/9 [==============================] - 0s 10ms/step - loss: 0.3542 - accuracy: 0.8429 - val_loss: 0.3401 - val_accuracy: 0.8723\n",
            "Epoch 8/30\n",
            "9/9 [==============================] - 0s 8ms/step - loss: 0.3546 - accuracy: 0.8578 - val_loss: 0.3536 - val_accuracy: 0.8404\n"
          ],
          "name": "stdout"
        },
        {
          "output_type": "display_data",
          "data": {
            "image/png": "[encoded data removed]",
            "text/plain": [
              "<Figure size 432x288 with 1 Axes>"
            ]
          },
          "metadata": {
            "tags": [],
            "needs_background": "light"
          }
        }
      ]
    },
    {
      "cell_type": "markdown",
      "metadata": {
        "id": "J2rrPB-SMRCp"
      },
      "source": [
        "### validation"
      ]
    },
    {
      "cell_type": "code",
      "metadata": {
        "colab": {
          "base_uri": "https://localhost:8080/"
        },
        "id": "R6LKoDxkIyAw",
        "outputId": "878ec36c-c423-498c-dbd9-fda5f5f90cfa"
      },
      "source": [
        "ann_model.evaluate(X_val, y_val)"
      ],
      "execution_count": 28,
      "outputs": [
        {
          "output_type": "stream",
          "text": [
            "4/4 [==============================] - 0s 3ms/step - loss: 0.3080 - accuracy: 0.8560\n"
          ],
          "name": "stdout"
        },
        {
          "output_type": "execute_result",
          "data": {
            "text/plain": [
              "[0.30801212787628174, 0.8560000061988831]"
            ]
          },
          "metadata": {
            "tags": []
          },
          "execution_count": 28
        }
      ]
    },
    {
      "cell_type": "markdown",
      "metadata": {
        "id": "pHe61ubJKTag"
      },
      "source": [
        "When we make predictions, our model outputs logits. These are values continuous probabilities between 0 and 1 that indicate which class our model thinks is the correct label. We can snap the probabilites to discrete binary values to get the predicted label."
      ]
    },
    {
      "cell_type": "code",
      "metadata": {
        "id": "ayC8POTzJy8K"
      },
      "source": [
        "@tf.function\n",
        "def logits2labels(l):\n",
        "    '''Converts a (1,) tensor of logits into a binary label.\n",
        "\n",
        "    Arguments:\n",
        "        l (tf.Tensor): A (1,) tensor of logits.\n",
        "\n",
        "    Returns:\n",
        "        int: The logit rounded to 0 or 1.\n",
        "    '''\n",
        "\n",
        "    if tf.greater(l[0], 0.5):\n",
        "        return 1\n",
        "    return 0"
      ],
      "execution_count": 29,
      "outputs": []
    },
    {
      "cell_type": "code",
      "metadata": {
        "id": "LRdt3BPOKx8U"
      },
      "source": [
        "def make_predictions(model, X):\n",
        "    '''Makes predictions on a dataset using a model.\n",
        "\n",
        "    Arguments:\n",
        "        model (tf.keras.Model): The model to use.\n",
        "        X (np.ndarray): A 2D array of samples: (sample, 768)\n",
        "\n",
        "    Returns:\n",
        "        np.ndarray: A 1D array of predictions: (prediction,)\n",
        "    '''\n",
        "\n",
        "    logits = model.predict(X)\n",
        "    pred = np.apply_along_axis(logits2labels, 1, logits)\n",
        "\n",
        "    return pred"
      ],
      "execution_count": 30,
      "outputs": []
    },
    {
      "cell_type": "code",
      "metadata": {
        "colab": {
          "base_uri": "https://localhost:8080/"
        },
        "id": "uYpOvRgZL_DE",
        "outputId": "1ffca4e0-d227-433b-88cd-3849d7a154b8"
      },
      "source": [
        "y_pred = make_predictions(ann_model, X_val)\n",
        "y_pred.shape"
      ],
      "execution_count": 31,
      "outputs": [
        {
          "output_type": "execute_result",
          "data": {
            "text/plain": [
              "(125,)"
            ]
          },
          "metadata": {
            "tags": []
          },
          "execution_count": 31
        }
      ]
    },
    {
      "cell_type": "markdown",
      "metadata": {
        "id": "VX26Bo0WSphd"
      },
      "source": [
        "A confusion matrix can help visualize what our model is predicting. We don't want outliers which would suggest biases (or labels that are similar)."
      ]
    },
    {
      "cell_type": "code",
      "metadata": {
        "colab": {
          "base_uri": "https://localhost:8080/",
          "height": 295
        },
        "id": "lF-TFBqLMD_J",
        "outputId": "05424028-e7cf-494c-d53a-4dbe9293736d"
      },
      "source": [
        "confusion_mat = np.zeros((2, 2))\n",
        "\n",
        "for pred, act in zip(y_pred, y_val):\n",
        "    confusion_mat[pred][act] += 1\n",
        "\n",
        "confusion_mat = normalize(confusion_mat, axis=1, norm='l1')\n",
        "\n",
        "sns.heatmap(\n",
        "    confusion_mat,\n",
        "    cmap='flare',\n",
        "    square=True,\n",
        "    annot=True,\n",
        "    xticklabels=['not disaster','disaster'],\n",
        "    yticklabels=['not disaster','disaster']\n",
        ")\n",
        "plt.title('Confusion Matrix')\n",
        "plt.xlabel('actual label')\n",
        "plt.ylabel('predicted label') \n",
        "\n",
        "plt.show()"
      ],
      "execution_count": 32,
      "outputs": [
        {
          "output_type": "display_data",
          "data": {
            "image/png": "[encoded data removed]",
            "text/plain": [
              "<Figure size 432x288 with 2 Axes>"
            ]
          },
          "metadata": {
            "tags": [],
            "needs_background": "light"
          }
        }
      ]
    },
    {
      "cell_type": "markdown",
      "metadata": {
        "id": "jDPJXn4GIyAw"
      },
      "source": [
        "## Submission\n",
        "\n",
        "This will take a while.\n",
        "\n",
        "1. Clean training data set\n",
        "2. Use BERT to embed text\n",
        "3. Build ANN\n",
        "4. Train on all samples\n",
        "5. Predict labels on the test data set"
      ]
    },
    {
      "cell_type": "code",
      "metadata": {
        "id": "ynlsiG1JIyAx"
      },
      "source": [
        "def preprocess_pipeline(df):\n",
        "    '''Clean and Encode a data set.\n",
        "    \n",
        "    Arguments:\n",
        "        df (pandas.DataFrame): The data set, with samples in the 'text' column.\n",
        "        \n",
        "    Returns:\n",
        "        np.ndarray: 3D array of encodings; (index, [tokens, mask], value)\n",
        "    '''\n",
        "    \n",
        "    # clean text\n",
        "    text = df['text'].apply(clean).to_list()\n",
        "\n",
        "    # encode text\n",
        "    encodings = encode_text(text)\n",
        "\n",
        "    return encodings"
      ],
      "execution_count": null,
      "outputs": []
    },
    {
      "cell_type": "code",
      "metadata": {
        "id": "AcOP_exxIyAx"
      },
      "source": [
        "df = df_ori.drop(labels=['id', 'keyword', 'location'], axis=1)\n",
        "\n",
        "y = df['target'].to_numpy()\n",
        "\n",
        "X = preprocess_pipeline(df)\n",
        "\n",
        "print(X.shape, y.shape)"
      ],
      "execution_count": null,
      "outputs": []
    },
    {
      "cell_type": "code",
      "metadata": {
        "id": "oVC9CKaqIyAx"
      },
      "source": [
        "# embed text\n",
        "X = embed_encodings(X)\n",
        "X.shape"
      ],
      "execution_count": null,
      "outputs": []
    },
    {
      "cell_type": "code",
      "metadata": {
        "id": "8fYChZIUIyAx"
      },
      "source": [
        "# build ANN\n",
        "ann_model = build_ann(X.shape[1])\n",
        "\n",
        "ann_model.summary()"
      ],
      "execution_count": null,
      "outputs": []
    },
    {
      "cell_type": "code",
      "metadata": {
        "id": "dJlLZaYlIyAy"
      },
      "source": [
        "ann_model.fit(\n",
        "    X, y, epochs=30, validation_split=0.25,\n",
        "    callbacks=[es_callback], shuffle=False\n",
        ")"
      ],
      "execution_count": null,
      "outputs": []
    },
    {
      "cell_type": "markdown",
      "metadata": {
        "id": "Rc6nW84XIyAy"
      },
      "source": [
        "Time to predict disaster tweets!"
      ]
    },
    {
      "cell_type": "code",
      "metadata": {
        "id": "-CXtB6NQIyAy"
      },
      "source": [
        "# load test set\n",
        "df_test = pd.read_csv('../input/nlp-getting-started/test.csv')\n",
        "df_test = df_test.drop(labels=['keyword', 'location'], axis=1)\n",
        "\n",
        "X_test = preprocess_pipeline(df_test)\n",
        "X_test.shape"
      ],
      "execution_count": null,
      "outputs": []
    },
    {
      "cell_type": "code",
      "metadata": {
        "id": "uwRtUDBwIyAy"
      },
      "source": [
        "X_test = embed_encodings(X_test)\n",
        "X_test.shape"
      ],
      "execution_count": null,
      "outputs": []
    },
    {
      "cell_type": "code",
      "metadata": {
        "id": "NurmM1wnIyAz"
      },
      "source": [
        "df_test['target'] = make_predictions(ann_model, X_test)\n",
        "df_test.head()"
      ],
      "execution_count": null,
      "outputs": []
    },
    {
      "cell_type": "markdown",
      "metadata": {
        "id": "mIcE9zoXIyAz"
      },
      "source": [
        "Save your predictions to a CSV file. We only want the `id` and `target` columns. Then go back to Kaggle and submit!"
      ]
    },
    {
      "cell_type": "code",
      "metadata": {
        "id": "3rtJOC1_IyAz"
      },
      "source": [
        "df_test = df_test.drop(labels=['text', 'keyword', 'location'], axis=1)\n",
        "df_test.to_csv('submission.csv', index=False)"
      ],
      "execution_count": null,
      "outputs": []
    },
    {
      "cell_type": "code",
      "metadata": {
        "id": "Jd80va94IyAz"
      },
      "source": [],
      "execution_count": null,
      "outputs": []
    }
  ]
}