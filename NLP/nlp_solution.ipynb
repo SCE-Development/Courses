{
 "cells": [
  {
   "cell_type": "markdown",
   "metadata": {},
   "source": [
    "# SCE NLP Workshop Solution\n",
    "\n",
    "This is the solution to the NLP workshop. It's written to be run on Kaggle for the [NLP with Disaster Tweets](https://www.kaggle.com/c/nlp-getting-started) contest. You should write your own version, starting with the `nlp_workshop.ipynb` notebook."
   ]
  },
  {
   "cell_type": "code",
   "execution_count": 1,
   "metadata": {
    "_cell_guid": "b1076dfc-b9ad-4769-8c92-a6c4dae69d19",
    "_uuid": "8f2839f25d086af736a60e9eeb907d3b93b6e0e5"
   },
   "outputs": [
    {
     "name": "stdout",
     "output_type": "stream",
     "text": [
      "/kaggle/input/nlp-getting-started/sample_submission.csv\n",
      "/kaggle/input/nlp-getting-started/train.csv\n",
      "/kaggle/input/nlp-getting-started/test.csv\n"
     ]
    }
   ],
   "source": [
    "import numpy as np        # linear algebra\n",
    "import pandas as pd       # data processing\n",
    "from tqdm import tqdm     # progress bars\n",
    "import matplotlib.pyplot as plt  # plot graphs\n",
    "\n",
    "import os\n",
    "\n",
    "# add /kaggle/input into our path (if we had more code in here)\n",
    "for dirname, _, filenames in os.walk('/kaggle/input'):\n",
    "    for filename in filenames:\n",
    "        print(os.path.join(dirname, filename))\n",
    "\n",
    "np.random.RandomState(123) # seed RNG for reproducibility\n",
    "tqdm.pandas()              # enable progress bars on pandas"
   ]
  },
  {
   "cell_type": "markdown",
   "metadata": {},
   "source": [
    "## data exploration\n",
    "\n",
    "Load the training data and checkout what we're working with."
   ]
  },
  {
   "cell_type": "code",
   "execution_count": 2,
   "metadata": {},
   "outputs": [
    {
     "data": {
      "text/html": [
       "<div>\n",
       "<style scoped>\n",
       "    .dataframe tbody tr th:only-of-type {\n",
       "        vertical-align: middle;\n",
       "    }\n",
       "\n",
       "    .dataframe tbody tr th {\n",
       "        vertical-align: top;\n",
       "    }\n",
       "\n",
       "    .dataframe thead th {\n",
       "        text-align: right;\n",
       "    }\n",
       "</style>\n",
       "<table border=\"1\" class=\"dataframe\">\n",
       "  <thead>\n",
       "    <tr style=\"text-align: right;\">\n",
       "      <th></th>\n",
       "      <th>id</th>\n",
       "      <th>keyword</th>\n",
       "      <th>location</th>\n",
       "      <th>text</th>\n",
       "      <th>target</th>\n",
       "    </tr>\n",
       "  </thead>\n",
       "  <tbody>\n",
       "    <tr>\n",
       "      <th>0</th>\n",
       "      <td>1</td>\n",
       "      <td>NaN</td>\n",
       "      <td>NaN</td>\n",
       "      <td>Our Deeds are the Reason of this #earthquake M...</td>\n",
       "      <td>1</td>\n",
       "    </tr>\n",
       "    <tr>\n",
       "      <th>1</th>\n",
       "      <td>4</td>\n",
       "      <td>NaN</td>\n",
       "      <td>NaN</td>\n",
       "      <td>Forest fire near La Ronge Sask. Canada</td>\n",
       "      <td>1</td>\n",
       "    </tr>\n",
       "    <tr>\n",
       "      <th>2</th>\n",
       "      <td>5</td>\n",
       "      <td>NaN</td>\n",
       "      <td>NaN</td>\n",
       "      <td>All residents asked to 'shelter in place' are ...</td>\n",
       "      <td>1</td>\n",
       "    </tr>\n",
       "    <tr>\n",
       "      <th>3</th>\n",
       "      <td>6</td>\n",
       "      <td>NaN</td>\n",
       "      <td>NaN</td>\n",
       "      <td>13,000 people receive #wildfires evacuation or...</td>\n",
       "      <td>1</td>\n",
       "    </tr>\n",
       "    <tr>\n",
       "      <th>4</th>\n",
       "      <td>7</td>\n",
       "      <td>NaN</td>\n",
       "      <td>NaN</td>\n",
       "      <td>Just got sent this photo from Ruby #Alaska as ...</td>\n",
       "      <td>1</td>\n",
       "    </tr>\n",
       "    <tr>\n",
       "      <th>...</th>\n",
       "      <td>...</td>\n",
       "      <td>...</td>\n",
       "      <td>...</td>\n",
       "      <td>...</td>\n",
       "      <td>...</td>\n",
       "    </tr>\n",
       "    <tr>\n",
       "      <th>7608</th>\n",
       "      <td>10869</td>\n",
       "      <td>NaN</td>\n",
       "      <td>NaN</td>\n",
       "      <td>Two giant cranes holding a bridge collapse int...</td>\n",
       "      <td>1</td>\n",
       "    </tr>\n",
       "    <tr>\n",
       "      <th>7609</th>\n",
       "      <td>10870</td>\n",
       "      <td>NaN</td>\n",
       "      <td>NaN</td>\n",
       "      <td>@aria_ahrary @TheTawniest The out of control w...</td>\n",
       "      <td>1</td>\n",
       "    </tr>\n",
       "    <tr>\n",
       "      <th>7610</th>\n",
       "      <td>10871</td>\n",
       "      <td>NaN</td>\n",
       "      <td>NaN</td>\n",
       "      <td>M1.94 [01:04 UTC]?5km S of Volcano Hawaii. htt...</td>\n",
       "      <td>1</td>\n",
       "    </tr>\n",
       "    <tr>\n",
       "      <th>7611</th>\n",
       "      <td>10872</td>\n",
       "      <td>NaN</td>\n",
       "      <td>NaN</td>\n",
       "      <td>Police investigating after an e-bike collided ...</td>\n",
       "      <td>1</td>\n",
       "    </tr>\n",
       "    <tr>\n",
       "      <th>7612</th>\n",
       "      <td>10873</td>\n",
       "      <td>NaN</td>\n",
       "      <td>NaN</td>\n",
       "      <td>The Latest: More Homes Razed by Northern Calif...</td>\n",
       "      <td>1</td>\n",
       "    </tr>\n",
       "  </tbody>\n",
       "</table>\n",
       "<p>7613 rows × 5 columns</p>\n",
       "</div>"
      ],
      "text/plain": [
       "         id keyword location  \\\n",
       "0         1     NaN      NaN   \n",
       "1         4     NaN      NaN   \n",
       "2         5     NaN      NaN   \n",
       "3         6     NaN      NaN   \n",
       "4         7     NaN      NaN   \n",
       "...     ...     ...      ...   \n",
       "7608  10869     NaN      NaN   \n",
       "7609  10870     NaN      NaN   \n",
       "7610  10871     NaN      NaN   \n",
       "7611  10872     NaN      NaN   \n",
       "7612  10873     NaN      NaN   \n",
       "\n",
       "                                                   text  target  \n",
       "0     Our Deeds are the Reason of this #earthquake M...       1  \n",
       "1                Forest fire near La Ronge Sask. Canada       1  \n",
       "2     All residents asked to 'shelter in place' are ...       1  \n",
       "3     13,000 people receive #wildfires evacuation or...       1  \n",
       "4     Just got sent this photo from Ruby #Alaska as ...       1  \n",
       "...                                                 ...     ...  \n",
       "7608  Two giant cranes holding a bridge collapse int...       1  \n",
       "7609  @aria_ahrary @TheTawniest The out of control w...       1  \n",
       "7610  M1.94 [01:04 UTC]?5km S of Volcano Hawaii. htt...       1  \n",
       "7611  Police investigating after an e-bike collided ...       1  \n",
       "7612  The Latest: More Homes Razed by Northern Calif...       1  \n",
       "\n",
       "[7613 rows x 5 columns]"
      ]
     },
     "execution_count": 2,
     "metadata": {},
     "output_type": "execute_result"
    }
   ],
   "source": [
    "# load training data\n",
    "df_ori = pd.read_csv('../input/nlp-getting-started/train.csv')\n",
    "\n",
    "df_ori # data frame original: contains unmodified training data"
   ]
  },
  {
   "cell_type": "markdown",
   "metadata": {},
   "source": [
    "Look at samples from the training data"
   ]
  },
  {
   "cell_type": "code",
   "execution_count": 3,
   "metadata": {},
   "outputs": [
    {
     "data": {
      "text/plain": [
       "array([nan, 'ablaze', 'accident', 'aftershock', 'airplane%20accident',\n",
       "       'ambulance', 'annihilated', 'annihilation', 'apocalypse',\n",
       "       'armageddon'], dtype=object)"
      ]
     },
     "execution_count": 3,
     "metadata": {},
     "output_type": "execute_result"
    }
   ],
   "source": [
    "# look at 10 keywords\n",
    "df_ori['keyword'].unique()[:10]"
   ]
  },
  {
   "cell_type": "code",
   "execution_count": 4,
   "metadata": {},
   "outputs": [
    {
     "data": {
      "text/plain": [
       "array([nan, 'Birmingham', 'Est. September 2012 - Bristol', 'AFRICA',\n",
       "       'Philadelphia, PA', 'London, UK', 'Pretoria', 'World Wide!!',\n",
       "       'Paranaque City', 'Live On Webcam'], dtype=object)"
      ]
     },
     "execution_count": 4,
     "metadata": {},
     "output_type": "execute_result"
    }
   ],
   "source": [
    "# look at 10 locations\n",
    "df_ori['location'].unique()[:10]"
   ]
  },
  {
   "cell_type": "code",
   "execution_count": 5,
   "metadata": {},
   "outputs": [
    {
     "name": "stdout",
     "output_type": "stream",
     "text": [
      "'Our Deeds are the Reason of this #earthquake May ALLAH Forgive us all'\n",
      "\n",
      "'Forest fire near La Ronge Sask. Canada'\n",
      "\n",
      "\"All residents asked to 'shelter in place' are being notified by officers. No other evacuation or shelter in place orders are expected\"\n",
      "\n",
      "'13,000 people receive #wildfires evacuation orders in California '\n",
      "\n",
      "'Just got sent this photo from Ruby #Alaska as smoke from #wildfires pours into a school '\n",
      "\n",
      "'#RockyFire Update => California Hwy. 20 closed in both directions due to Lake County fire - #CAfire #wildfires'\n",
      "\n",
      "'#flood #disaster Heavy rain causes flash flooding of streets in Manitou, Colorado Springs areas'\n",
      "\n",
      "\"I'm on top of the hill and I can see a fire in the woods...\"\n",
      "\n",
      "\"There's an emergency evacuation happening now in the building across the street\"\n",
      "\n",
      "\"I'm afraid that the tornado is coming to our area...\"\n",
      "\n",
      "'Three people died from the heat wave so far'\n",
      "\n"
     ]
    }
   ],
   "source": [
    "# look at 10 posts\n",
    "for index, text in df_ori['text'].iteritems():\n",
    "    # repr() will print special characters as escaped\n",
    "    # e.g. '\\n' for newline\n",
    "    print(repr(text), end='\\n\\n')\n",
    "    if index == 10:\n",
    "        break"
   ]
  },
  {
   "cell_type": "markdown",
   "metadata": {},
   "source": [
    "We're going to ignore 'id' and 'location' because they're useless. 'keyword' might be helpful, but we'll ignore that too."
   ]
  },
  {
   "cell_type": "code",
   "execution_count": 6,
   "metadata": {},
   "outputs": [
    {
     "data": {
      "text/plain": [
       "(7613, 2)"
      ]
     },
     "execution_count": 6,
     "metadata": {},
     "output_type": "execute_result"
    }
   ],
   "source": [
    "# drop columns (axis=1)\n",
    "df = df_ori.drop(labels=['id', 'keyword', 'location'], axis=1)\n",
    "\n",
    "df.shape # returns the dimensions of the data frame"
   ]
  },
  {
   "cell_type": "markdown",
   "metadata": {},
   "source": [
    "## BERT"
   ]
  },
  {
   "cell_type": "markdown",
   "metadata": {},
   "source": [
    "BERT is a transformer, which maps a sentence into a sentence embedding (i think?). You can think of it as transforming sentences into vectors that represent the sentence.\n",
    "\n",
    "We're going to use a pretrained model from [Hugging Face](https://huggingface.co/transformers/model_doc/distilbert.html) called DistilBERT. It's been shown to be faster than BERT with similar performance."
   ]
  },
  {
   "cell_type": "code",
   "execution_count": 7,
   "metadata": {},
   "outputs": [
    {
     "data": {
      "text/plain": [
       "'done'"
      ]
     },
     "execution_count": 7,
     "metadata": {},
     "output_type": "execute_result"
    }
   ],
   "source": [
    "# install the Hugging Face transformers library\n",
    "!pip install transformers -q\n",
    "\n",
    "import torch # our BERT model from Hugging Face uses PyTorch\n",
    "\n",
    "'done'"
   ]
  },
  {
   "cell_type": "markdown",
   "metadata": {},
   "source": [
    "### preprocessing\n",
    "\n",
    "BERT doesn't require much preprocessing. We just need to do the following:\n",
    "\n",
    "1. lowercase\n",
    "2. handle special characters (e.g. ü)\n",
    "3. remove punctuation (we're considering each tweet as one sentence)"
   ]
  },
  {
   "cell_type": "code",
   "execution_count": 8,
   "metadata": {},
   "outputs": [],
   "source": [
    "from unidecode import unidecode # remove accents from characters\n",
    "import html    # for html encoded characters (e.g. &amp;)\n",
    "import re      # regular expressions"
   ]
  },
  {
   "cell_type": "code",
   "execution_count": 9,
   "metadata": {},
   "outputs": [],
   "source": [
    "def clean(text: str) -> str:\n",
    "    '''Normalize a text sample'''\n",
    "    \n",
    "    # unescape html\n",
    "    text = html.unescape(text)\n",
    "    \n",
    "    # remove mentions\n",
    "    text = re.sub(r'(^|.)@[^\\s]*', r'', text)\n",
    "    \n",
    "    # remove urls\n",
    "    text = re.sub(r'https?:\\/\\/[^\\s]*', r'', text)\n",
    "    \n",
    "    # remove accented characters\n",
    "    text = unidecode(text)\n",
    "    \n",
    "    # remove unwanted characters\n",
    "    text = re.sub(r\"[^a-zA-Z\\s']+\", r' ', text)\n",
    "    \n",
    "    # remove repeated apostrophes\n",
    "    text = re.sub(r\"(['])[']+\", r'\\1', text)\n",
    "    \n",
    "    # remove whitespace from the sides\n",
    "    text = text.strip()\n",
    "    \n",
    "    # turn whitespace into a space\n",
    "    text = re.sub(r'\\s+', r' ', text)\n",
    "    \n",
    "    # lowercase\n",
    "    text = text.lower()\n",
    "    \n",
    "    return text"
   ]
  },
  {
   "cell_type": "code",
   "execution_count": 10,
   "metadata": {},
   "outputs": [
    {
     "data": {
      "text/plain": [
       "'our deeds are the reason of this earthquake may allah forgive us all'"
      ]
     },
     "execution_count": 10,
     "metadata": {},
     "output_type": "execute_result"
    }
   ],
   "source": [
    "# clean all our text\n",
    "df['text'] = df['text'].apply(clean)\n",
    "df['text'].iat[0]"
   ]
  },
  {
   "cell_type": "markdown",
   "metadata": {},
   "source": [
    "### encode\n",
    "\n",
    "1. Tokenize words into IDs in BERT's vocabulary\n",
    "2. Add `[CLS]` tokens to classify the text\n",
    "3. Add `[SEP]` tokens at the ends of sentences (BERT needs them surrounding each sentence)\n",
    "4. Pad tokens to the same length\n",
    "5. Create an attention mask to ignore padding\n",
    "\n",
    "If our samples were too long (> 512 tokens), we would have to truncate them or create a list of sentences. Luckily, tweets are quite short."
   ]
  },
  {
   "cell_type": "code",
   "execution_count": 11,
   "metadata": {},
   "outputs": [
    {
     "data": {
      "application/vnd.jupyter.widget-view+json": {
       "model_id": "10a567acbff4466d8c966022187cbb95",
       "version_major": 2,
       "version_minor": 0
      },
      "text/plain": [
       "Downloading:   0%|          | 0.00/442 [00:00<?, ?B/s]"
      ]
     },
     "metadata": {},
     "output_type": "display_data"
    },
    {
     "data": {
      "application/vnd.jupyter.widget-view+json": {
       "model_id": "94a9f618cc5a40719f89ae4551944875",
       "version_major": 2,
       "version_minor": 0
      },
      "text/plain": [
       "Downloading:   0%|          | 0.00/232k [00:00<?, ?B/s]"
      ]
     },
     "metadata": {},
     "output_type": "display_data"
    },
    {
     "data": {
      "application/vnd.jupyter.widget-view+json": {
       "model_id": "5b4fb7144bdd44a081c2957d32752f85",
       "version_major": 2,
       "version_minor": 0
      },
      "text/plain": [
       "Downloading:   0%|          | 0.00/466k [00:00<?, ?B/s]"
      ]
     },
     "metadata": {},
     "output_type": "display_data"
    },
    {
     "data": {
      "application/vnd.jupyter.widget-view+json": {
       "model_id": "b8e563d6b15e48bd8cf8471a7772fcaf",
       "version_major": 2,
       "version_minor": 0
      },
      "text/plain": [
       "Downloading:   0%|          | 0.00/28.0 [00:00<?, ?B/s]"
      ]
     },
     "metadata": {},
     "output_type": "display_data"
    }
   ],
   "source": [
    "from transformers import AutoTokenizer\n",
    "\n",
    "# download a pretrained tokenizer (needs internet)\n",
    "tokenizer = AutoTokenizer.from_pretrained('distilbert-base-uncased')"
   ]
  },
  {
   "cell_type": "markdown",
   "metadata": {},
   "source": [
    "Hugging Face has a BertNormalizer class that can do some of what our `clean()` function does\n",
    "\n",
    "```py\n",
    "from tokenizers.normalizers import BertNormalizer\n",
    "\n",
    "tokenizer.normalizer = BertNormalizer(\n",
    "    clean_text=True, handle_chinese_chars=True,\n",
    "    strip_accents=True, lowercase=True\n",
    ")\n",
    "```"
   ]
  },
  {
   "cell_type": "code",
   "execution_count": 12,
   "metadata": {},
   "outputs": [],
   "source": [
    "def encode_text(text: list):\n",
    "    '''Encodes text\n",
    "    \n",
    "    Arguments:\n",
    "        text (list): Array of strings.\n",
    "        \n",
    "    Returns:\n",
    "        np.ndarray: 3D array of encodings; (sample, [tokens, mask], value)\n",
    "    '''\n",
    "    \n",
    "    encodings = tokenizer(\n",
    "        text,\n",
    "        add_special_tokens=True, padding=True, truncation=True,\n",
    "        return_attention_mask=True, return_tensors='np'\n",
    "    )\n",
    "\n",
    "    encodings = np.stack(\n",
    "        [encodings.input_ids, encodings.attention_mask], axis=1)\n",
    "    \n",
    "    return encodings"
   ]
  },
  {
   "cell_type": "code",
   "execution_count": 13,
   "metadata": {},
   "outputs": [
    {
     "data": {
      "text/plain": [
       "(7613, 2, 43)"
      ]
     },
     "execution_count": 13,
     "metadata": {},
     "output_type": "execute_result"
    }
   ],
   "source": [
    "# encode all our text\n",
    "encodings = encode_text(df['text'].to_list())\n",
    "encodings.shape"
   ]
  },
  {
   "cell_type": "markdown",
   "metadata": {},
   "source": [
    "Tokens are encoded IDs for words in BERT's vocabulary.\n",
    "\n",
    "Example from [Jay Alammar](https://jalammar.github.io/a-visual-guide-to-using-bert-for-the-first-time/#how-a-single-prediction-is-calculated)\n",
    "\n",
    "Input sentence  \n",
    "`a visually stunning rumination on love`\n",
    "\n",
    "Break words into tokens in BERT's vocabulary  \n",
    "`a` `visually` `stunning` `rum` `##ination` `on` `love`\n",
    "\n",
    "Add special tokens  \n",
    "`[CLS]` `a` `visually` `stunning` `rum` `##ination` `on` `love` `[SEP]`\n",
    "\n",
    "Encode tokens into IDs  \n",
    "`101` `1037` `17453` `14726` `19379` `12758` `2006` `2293` `102`"
   ]
  },
  {
   "cell_type": "code",
   "execution_count": 14,
   "metadata": {},
   "outputs": [
    {
     "data": {
      "text/plain": [
       "array([  101,  2256, 15616,  2024,  1996,  3114,  1997,  2023,  8372,\n",
       "        2089, 16455,  9641,  2149,  2035,   102,     0,     0,     0,\n",
       "           0,     0,     0,     0,     0,     0,     0,     0,     0,\n",
       "           0,     0,     0,     0,     0,     0,     0,     0,     0,\n",
       "           0,     0,     0,     0,     0,     0,     0])"
      ]
     },
     "execution_count": 14,
     "metadata": {},
     "output_type": "execute_result"
    }
   ],
   "source": [
    "#  tokens\n",
    "encodings[0][0]"
   ]
  },
  {
   "cell_type": "markdown",
   "metadata": {},
   "source": [
    "The attention mask tells BERT which tokens are real (ones) and which are padded (zeros)"
   ]
  },
  {
   "cell_type": "code",
   "execution_count": 15,
   "metadata": {},
   "outputs": [
    {
     "data": {
      "text/plain": [
       "array([1, 1, 1, 1, 1, 1, 1, 1, 1, 1, 1, 1, 1, 1, 1, 0, 0, 0, 0, 0, 0, 0,\n",
       "       0, 0, 0, 0, 0, 0, 0, 0, 0, 0, 0, 0, 0, 0, 0, 0, 0, 0, 0, 0, 0])"
      ]
     },
     "execution_count": 15,
     "metadata": {},
     "output_type": "execute_result"
    }
   ],
   "source": [
    "# attention mask\n",
    "encodings[0][1]"
   ]
  },
  {
   "cell_type": "markdown",
   "metadata": {},
   "source": [
    "### embed\n",
    "\n",
    "Use BERT to transform the text into embeddings (vectors of numbers to represent the sentence)."
   ]
  },
  {
   "cell_type": "code",
   "execution_count": 16,
   "metadata": {},
   "outputs": [
    {
     "data": {
      "application/vnd.jupyter.widget-view+json": {
       "model_id": "b80c9894ecdc4ab7b3fa321f7cb0b6d8",
       "version_major": 2,
       "version_minor": 0
      },
      "text/plain": [
       "Downloading:   0%|          | 0.00/268M [00:00<?, ?B/s]"
      ]
     },
     "metadata": {},
     "output_type": "display_data"
    }
   ],
   "source": [
    "from transformers import AutoModel\n",
    "\n",
    "# download a pretrained model (needs internet)\n",
    "bert_model = AutoModel.from_pretrained('distilbert-base-uncased')"
   ]
  },
  {
   "cell_type": "markdown",
   "metadata": {},
   "source": [
    "Get class embeddings. Each chunk from a sample gets a vector of 768 embeddings (from the 768 hidden layers).\n",
    "\n",
    "Source: [Jay Alammar](https://jalammar.github.io/a-visual-guide-to-using-bert-for-the-first-time/#processing-with-distilbert)"
   ]
  },
  {
   "cell_type": "code",
   "execution_count": 17,
   "metadata": {},
   "outputs": [],
   "source": [
    "def embed_encodings(encodings):\n",
    "    '''Transfrom encoded samples.\n",
    "    \n",
    "    Arguments:\n",
    "        encodings (np.ndarray): 3D array of encodings;\n",
    "            (sample, [tokens, mask], value)\n",
    "    \n",
    "    Returns:\n",
    "        numpy.ndarray: 2D array of 768 hidden states for the '[CLS]' token\n",
    "            for each sample; (sample, embeddings)\n",
    "    '''\n",
    "\n",
    "    X = []\n",
    "\n",
    "    for sample in tqdm(encodings):\n",
    "        tokens = torch.tensor(sample[0])\n",
    "        mask = torch.tensor(sample[1])\n",
    "\n",
    "        with torch.no_grad():\n",
    "            last_hidden_states = bert_model(tokens.unsqueeze(0), attention_mask=mask)\n",
    "\n",
    "        # we only care about class embeddings\n",
    "        embeddings = last_hidden_states[0][:,0,:][0].numpy()\n",
    "\n",
    "        X.append(embeddings)\n",
    "\n",
    "    X = np.stack(X, axis=0)\n",
    "\n",
    "    return X"
   ]
  },
  {
   "cell_type": "markdown",
   "metadata": {},
   "source": [
    "This step takes a while, so we'll reduce the size of our training data. Once everything is working, switch to using a GPU transform all the data."
   ]
  },
  {
   "cell_type": "code",
   "execution_count": 18,
   "metadata": {},
   "outputs": [
    {
     "name": "stderr",
     "output_type": "stream",
     "text": [
      "100%|██████████| 500/500 [01:14<00:00,  6.70it/s]\n"
     ]
    },
    {
     "name": "stdout",
     "output_type": "stream",
     "text": [
      "(500, 768) (500,)\n"
     ]
    }
   ],
   "source": [
    "# reduced data size for convenience\n",
    "encodings = encodings[:500]\n",
    "\n",
    "# match input samples\n",
    "y = df[df.index < 500]\n",
    "y = y['target'].to_numpy()\n",
    "\n",
    "X = embed_encodings(encodings)\n",
    "\n",
    "print(X.shape, y.shape)"
   ]
  },
  {
   "cell_type": "markdown",
   "metadata": {},
   "source": [
    "## split train and test data\n",
    "\n",
    "We need to split our training data into training and validation data. We use training data to train our model, then validation data to check our performance (and tweak our model if necessary)."
   ]
  },
  {
   "cell_type": "code",
   "execution_count": 19,
   "metadata": {},
   "outputs": [],
   "source": [
    "from sklearn.model_selection import train_test_split"
   ]
  },
  {
   "cell_type": "code",
   "execution_count": 20,
   "metadata": {},
   "outputs": [
    {
     "name": "stdout",
     "output_type": "stream",
     "text": [
      "(375, 768) (125, 768) (375,) (125,)\n"
     ]
    }
   ],
   "source": [
    "X_train, X_val, y_train, y_val = map(\n",
    "    lambda x: np.stack(x, axis=0),\n",
    "    train_test_split(X, y, random_state=123, stratify=y)\n",
    ")\n",
    "\n",
    "print(X_train.shape, X_val.shape, y_train.shape, y_val.shape)"
   ]
  },
  {
   "cell_type": "markdown",
   "metadata": {},
   "source": [
    "## ANN\n",
    "\n",
    "We'll use an artifical neural network on the sentence embeddings to perform classification."
   ]
  },
  {
   "cell_type": "code",
   "execution_count": 21,
   "metadata": {},
   "outputs": [],
   "source": [
    "import tensorflow as tf    # deep learning library, like PyTorch"
   ]
  },
  {
   "cell_type": "code",
   "execution_count": 22,
   "metadata": {},
   "outputs": [],
   "source": [
    "def build_ann(input_shape: tuple):\n",
    "    '''Builds an artifical neural network.'''\n",
    "    \n",
    "    model = tf.keras.models.Sequential([\n",
    "        tf.keras.layers.Input(shape=input_shape),\n",
    "        \n",
    "        tf.keras.layers.Dense(64, activation='relu', name='hidden_1'),\n",
    "        tf.keras.layers.Dropout(0.2, name='dropout_1'), # regularization\n",
    "        \n",
    "        tf.keras.layers.Dense(1, activation='sigmoid', name='classifier')\n",
    "    ])\n",
    "    \n",
    "    model.compile(optimizer='adam', loss='binary_crossentropy', metrics=['accuracy'])\n",
    "    \n",
    "    return model"
   ]
  },
  {
   "cell_type": "code",
   "execution_count": 23,
   "metadata": {},
   "outputs": [
    {
     "name": "stdout",
     "output_type": "stream",
     "text": [
      "Model: \"sequential\"\n",
      "_________________________________________________________________\n",
      "Layer (type)                 Output Shape              Param #   \n",
      "=================================================================\n",
      "hidden_1 (Dense)             (None, 64)                49216     \n",
      "_________________________________________________________________\n",
      "dropout_1 (Dropout)          (None, 64)                0         \n",
      "_________________________________________________________________\n",
      "classifier (Dense)           (None, 1)                 65        \n",
      "=================================================================\n",
      "Total params: 49,281\n",
      "Trainable params: 49,281\n",
      "Non-trainable params: 0\n",
      "_________________________________________________________________\n"
     ]
    }
   ],
   "source": [
    "# build our model\n",
    "ann_model = build_ann(X_train.shape[1])\n",
    "\n",
    "ann_model.summary()"
   ]
  },
  {
   "cell_type": "code",
   "execution_count": 24,
   "metadata": {},
   "outputs": [
    {
     "data": {
      "image/png": "[encoded data removed]",
      "text/plain": [
       "<IPython.core.display.Image object>"
      ]
     },
     "execution_count": 24,
     "metadata": {},
     "output_type": "execute_result"
    }
   ],
   "source": [
    "# show the model as a flowchart\n",
    "tf.keras.utils.plot_model(ann_model)"
   ]
  },
  {
   "cell_type": "code",
   "execution_count": 25,
   "metadata": {},
   "outputs": [],
   "source": [
    "from tensorflow.keras.callbacks import EarlyStopping\n",
    "\n",
    "# prevent overfitting\n",
    "es_callback = EarlyStopping(monitor='val_loss', patience=3)"
   ]
  },
  {
   "cell_type": "code",
   "execution_count": 26,
   "metadata": {},
   "outputs": [
    {
     "name": "stdout",
     "output_type": "stream",
     "text": [
      "Epoch 1/30\n",
      "9/9 [==============================] - 2s 95ms/step - loss: 0.6544 - accuracy: 0.5682 - val_loss: 0.4421 - val_accuracy: 0.8723\n",
      "Epoch 2/30\n",
      "9/9 [==============================] - 0s 9ms/step - loss: 0.4662 - accuracy: 0.7842 - val_loss: 0.3600 - val_accuracy: 0.8723\n",
      "Epoch 3/30\n",
      "9/9 [==============================] - 0s 10ms/step - loss: 0.4249 - accuracy: 0.7953 - val_loss: 0.3527 - val_accuracy: 0.8298\n",
      "Epoch 4/30\n",
      "9/9 [==============================] - 0s 9ms/step - loss: 0.4037 - accuracy: 0.8063 - val_loss: 0.3356 - val_accuracy: 0.8511\n",
      "Epoch 5/30\n",
      "9/9 [==============================] - 0s 10ms/step - loss: 0.3931 - accuracy: 0.8222 - val_loss: 0.3319 - val_accuracy: 0.8723\n",
      "Epoch 6/30\n",
      "9/9 [==============================] - 0s 10ms/step - loss: 0.3620 - accuracy: 0.8462 - val_loss: 0.3497 - val_accuracy: 0.8404\n",
      "Epoch 7/30\n",
      "9/9 [==============================] - 0s 13ms/step - loss: 0.3364 - accuracy: 0.8437 - val_loss: 0.3433 - val_accuracy: 0.8723\n",
      "Epoch 8/30\n",
      "9/9 [==============================] - 0s 13ms/step - loss: 0.3527 - accuracy: 0.8315 - val_loss: 0.3516 - val_accuracy: 0.8617\n"
     ]
    },
    {
     "data": {
      "image/png": "[encoded data removed]",
      "text/plain": [
       "<Figure size 432x288 with 1 Axes>"
      ]
     },
     "metadata": {
      "needs_background": "light"
     },
     "output_type": "display_data"
    }
   ],
   "source": [
    "history = ann_model.fit(\n",
    "    X_train, y_train, epochs=30, validation_split=0.25,\n",
    "    callbacks=[es_callback], shuffle=False\n",
    "    )\n",
    "\n",
    "plt.plot(history.history['accuracy'])\n",
    "plt.plot(history.history['val_accuracy'])\n",
    "plt.title('model accuracy')\n",
    "plt.ylabel('accuracy')\n",
    "plt.xlabel('epoch')\n",
    "plt.legend(['train', 'validation'])\n",
    "plt.show()"
   ]
  },
  {
   "cell_type": "code",
   "execution_count": 27,
   "metadata": {},
   "outputs": [
    {
     "name": "stdout",
     "output_type": "stream",
     "text": [
      "4/4 [==============================] - 0s 2ms/step - loss: 0.2967 - accuracy: 0.8480\n"
     ]
    },
    {
     "data": {
      "text/plain": [
       "[0.29674598574638367, 0.8479999899864197]"
      ]
     },
     "execution_count": 27,
     "metadata": {},
     "output_type": "execute_result"
    }
   ],
   "source": [
    "ann_model.evaluate(X_val, y_val)"
   ]
  },
  {
   "cell_type": "markdown",
   "metadata": {},
   "source": [
    "## Submission\n",
    "\n",
    "Enable a GPU hardware accelerator at this point (this will take a while). You'll have to rerun the cells where you imported packages, declared functions, and created the BERT models we used.\n",
    "\n",
    "1. Clean training data set\n",
    "2. Use BERT to embed text\n",
    "3. Build ANN\n",
    "4. Train on all samples\n",
    "5. Predict labels on the test data set"
   ]
  },
  {
   "cell_type": "code",
   "execution_count": null,
   "metadata": {},
   "outputs": [],
   "source": [
    "from tensorflow.python.client import device_lib # check devices for TensorFlow\n",
    "\n",
    "# use cuda with PyTorch if available\n",
    "if torch.cuda.is_available():\n",
    "    device = torch.device('cuda')\n",
    "    print(f'using {torch.cuda.get_device_name(0)}')\n",
    "else:\n",
    "    print('no GPU avaiable')\n",
    "\n",
    "# TensorFlow automatically uses cuda\n",
    "print(device_lib.list_local_devices())"
   ]
  },
  {
   "cell_type": "code",
   "execution_count": null,
   "metadata": {},
   "outputs": [],
   "source": [
    "def preprocess_pipeline(df):\n",
    "    '''Clean and Encode a data set.\n",
    "    \n",
    "    Arguments:\n",
    "        df (pandas.DataFrame): The data set, with samples in the 'text' column.\n",
    "        \n",
    "    Returns:\n",
    "        np.ndarray: 3D array of encodings; (index, [tokens, mask], value)\n",
    "    '''\n",
    "    \n",
    "    # clean text\n",
    "    text = df['text'].apply(clean).to_list()\n",
    "\n",
    "    # encode text\n",
    "    encodings = encode_text(text)\n",
    "\n",
    "    return encodings"
   ]
  },
  {
   "cell_type": "code",
   "execution_count": null,
   "metadata": {},
   "outputs": [],
   "source": [
    "df = df_ori.drop(labels=['id', 'keyword', 'location'], axis=1)\n",
    "\n",
    "y = df['target'].to_numpy()\n",
    "\n",
    "X = preprocess_pipeline(df)\n",
    "\n",
    "print(X.shape, y.shape)"
   ]
  },
  {
   "cell_type": "code",
   "execution_count": null,
   "metadata": {},
   "outputs": [],
   "source": [
    "# embed text\n",
    "X = embed_encodings(X)\n",
    "X.shape"
   ]
  },
  {
   "cell_type": "code",
   "execution_count": null,
   "metadata": {},
   "outputs": [],
   "source": [
    "# build ANN\n",
    "ann_model = build_ann(X.shape[1])\n",
    "\n",
    "ann_model.summary()"
   ]
  },
  {
   "cell_type": "code",
   "execution_count": null,
   "metadata": {},
   "outputs": [],
   "source": [
    "ann_model.fit(\n",
    "    X, y, epochs=30, validation_split=0.25,\n",
    "    callbacks=[es_callback], shuffle=False\n",
    ")"
   ]
  },
  {
   "cell_type": "markdown",
   "metadata": {},
   "source": [
    "Time to predict disaster tweets!"
   ]
  },
  {
   "cell_type": "code",
   "execution_count": null,
   "metadata": {},
   "outputs": [],
   "source": [
    "# load test set\n",
    "df_test = pd.read_csv('../input/nlp-getting-started/test.csv')\n",
    "df_test = df_test.drop(labels=['keyword', 'location'], axis=1)\n",
    "\n",
    "X_test = preprocess_pipeline(df_test)\n",
    "X_test.shape"
   ]
  },
  {
   "cell_type": "code",
   "execution_count": null,
   "metadata": {},
   "outputs": [],
   "source": [
    "X_test = embed_encodings(X_test)\n",
    "X_test.shape"
   ]
  },
  {
   "cell_type": "markdown",
   "metadata": {},
   "source": [
    "Our model actually predicts probabilities (logits). We have to snap probabilites less than 50% to 0 and greater than 50% to 1."
   ]
  },
  {
   "cell_type": "code",
   "execution_count": null,
   "metadata": {},
   "outputs": [],
   "source": [
    "logits = ann_model.predict(X_test)\n",
    "logits.shape"
   ]
  },
  {
   "cell_type": "code",
   "execution_count": null,
   "metadata": {},
   "outputs": [],
   "source": [
    "pred = np.apply_along_axis(lambda p: 1 if tf.greater(p[0], 0.5) else 0, 1, logits)\n",
    "pred.shape"
   ]
  },
  {
   "cell_type": "code",
   "execution_count": null,
   "metadata": {},
   "outputs": [],
   "source": [
    "df_test['target'] = pred\n",
    "df_test.head()"
   ]
  },
  {
   "cell_type": "markdown",
   "metadata": {},
   "source": [
    "Save your predictions to a CSV file. We only want the `id` and `target` columns. Then go back to Kaggle and submit!"
   ]
  },
  {
   "cell_type": "code",
   "execution_count": null,
   "metadata": {},
   "outputs": [],
   "source": [
    "df_test = df_test.drop(labels=['text', 'keyword', 'location'], axis=1)\n",
    "df_test.to_csv('submission.csv', index=False)"
   ]
  },
  {
   "cell_type": "code",
   "execution_count": null,
   "metadata": {},
   "outputs": [],
   "source": []
  }
 ],
 "metadata": {
  "kernelspec": {
   "display_name": "Python 3",
   "language": "python",
   "name": "python3"
  },
  "language_info": {
   "codemirror_mode": {
    "name": "ipython",
    "version": 3
   },
   "file_extension": ".py",
   "mimetype": "text/x-python",
   "name": "python",
   "nbconvert_exporter": "python",
   "pygments_lexer": "ipython3",
   "version": "3.7.9"
  }
 },
 "nbformat": 4,
 "nbformat_minor": 4
}
